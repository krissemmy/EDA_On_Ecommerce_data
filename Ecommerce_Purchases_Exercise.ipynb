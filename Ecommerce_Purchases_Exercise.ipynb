{
  "cells": [
    {
      "cell_type": "markdown",
      "metadata": {
        "id": "y9yATGn2rThF"
      },
      "source": [
        "<a href='https://www.altschoolafrica.com/'><h2> PYTHON FOR Data Engineering</a>\n",
        "___\n",
        "\n",
        "# Ecommerce Purchases Exercise\n",
        "\n",
        "In this Exercise you will be given some Fake Data about some purchases done through Amazon! Just go ahead and follow the directions and try your best to answer the questions and complete the tasks. Feel free to reference the solutions. Most of the tasks can be solved in different ways. For the most part, the questions get progressively harder.\n",
        "\n",
        "Please excuse anything that doesn't make \"Real-World\" sense in the dataframe, all the data is fake and made-up.\n",
        "\n",
        "Also note that all of these questions can be answered with one line of code.\n",
        "____\n",
        "** Import pandas and read in the Ecommerce Purchases csv file and set it to a DataFrame called ecom. **"
      ]
    },
    {
      "cell_type": "code",
      "execution_count": null,
      "metadata": {
        "collapsed": true,
        "id": "pe4cgmkhrThK"
      },
      "outputs": [],
      "source": [
        "import pandas as pd\n",
        "import numpy as np\n"
      ]
    },
    {
      "cell_type": "markdown",
      "metadata": {
        "id": "mfCn84vdrThL"
      },
      "source": [
        "**Check the head of the DataFrame.**"
      ]
    },
    {
      "cell_type": "code",
      "execution_count": null,
      "metadata": {
        "colab": {
          "base_uri": "https://localhost:8080/",
          "height": 652
        },
        "id": "etZEj2ZlrkOX",
        "outputId": "5ab1b322-0613-404d-dfea-c01b3dada1b2"
      },
      "outputs": [
        {
          "data": {
            "text/html": [
              "\n",
              "  <div id=\"df-a8cf1110-7243-4d58-b304-443c1390bd39\">\n",
              "    <div class=\"colab-df-container\">\n",
              "      <div>\n",
              "<style scoped>\n",
              "    .dataframe tbody tr th:only-of-type {\n",
              "        vertical-align: middle;\n",
              "    }\n",
              "\n",
              "    .dataframe tbody tr th {\n",
              "        vertical-align: top;\n",
              "    }\n",
              "\n",
              "    .dataframe thead th {\n",
              "        text-align: right;\n",
              "    }\n",
              "</style>\n",
              "<table border=\"1\" class=\"dataframe\">\n",
              "  <thead>\n",
              "    <tr style=\"text-align: right;\">\n",
              "      <th></th>\n",
              "      <th>Address</th>\n",
              "      <th>Lot</th>\n",
              "      <th>AM or PM</th>\n",
              "      <th>Browser Info</th>\n",
              "      <th>Company</th>\n",
              "      <th>Credit Card</th>\n",
              "      <th>CC Exp Date</th>\n",
              "      <th>CC Security Code</th>\n",
              "      <th>CC Provider</th>\n",
              "      <th>Email</th>\n",
              "      <th>Job</th>\n",
              "      <th>IP Address</th>\n",
              "      <th>Language</th>\n",
              "      <th>Purchase Price</th>\n",
              "    </tr>\n",
              "  </thead>\n",
              "  <tbody>\n",
              "    <tr>\n",
              "      <th>0</th>\n",
              "      <td>16629 Pace Camp Apt. 448\\nAlexisborough, NE 77...</td>\n",
              "      <td>46 in</td>\n",
              "      <td>PM</td>\n",
              "      <td>Opera/9.56.(X11; Linux x86_64; sl-SI) Presto/2...</td>\n",
              "      <td>Martinez-Herman</td>\n",
              "      <td>6011929061123406</td>\n",
              "      <td>02/20</td>\n",
              "      <td>900</td>\n",
              "      <td>JCB 16 digit</td>\n",
              "      <td>pdunlap@yahoo.com</td>\n",
              "      <td>Scientist, product/process development</td>\n",
              "      <td>149.146.147.205</td>\n",
              "      <td>el</td>\n",
              "      <td>98.14</td>\n",
              "    </tr>\n",
              "    <tr>\n",
              "      <th>1</th>\n",
              "      <td>9374 Jasmine Spurs Suite 508\\nSouth John, TN 8...</td>\n",
              "      <td>28 rn</td>\n",
              "      <td>PM</td>\n",
              "      <td>Opera/8.93.(Windows 98; Win 9x 4.90; en-US) Pr...</td>\n",
              "      <td>Fletcher, Richards and Whitaker</td>\n",
              "      <td>3337758169645356</td>\n",
              "      <td>11/18</td>\n",
              "      <td>561</td>\n",
              "      <td>Mastercard</td>\n",
              "      <td>anthony41@reed.com</td>\n",
              "      <td>Drilling engineer</td>\n",
              "      <td>15.160.41.51</td>\n",
              "      <td>fr</td>\n",
              "      <td>70.73</td>\n",
              "    </tr>\n",
              "    <tr>\n",
              "      <th>2</th>\n",
              "      <td>Unit 0065 Box 5052\\nDPO AP 27450</td>\n",
              "      <td>94 vE</td>\n",
              "      <td>PM</td>\n",
              "      <td>Mozilla/5.0 (compatible; MSIE 9.0; Windows NT ...</td>\n",
              "      <td>Simpson, Williams and Pham</td>\n",
              "      <td>675957666125</td>\n",
              "      <td>08/19</td>\n",
              "      <td>699</td>\n",
              "      <td>JCB 16 digit</td>\n",
              "      <td>amymiller@morales-harrison.com</td>\n",
              "      <td>Customer service manager</td>\n",
              "      <td>132.207.160.22</td>\n",
              "      <td>de</td>\n",
              "      <td>0.95</td>\n",
              "    </tr>\n",
              "    <tr>\n",
              "      <th>3</th>\n",
              "      <td>7780 Julia Fords\\nNew Stacy, WA 45798</td>\n",
              "      <td>36 vm</td>\n",
              "      <td>PM</td>\n",
              "      <td>Mozilla/5.0 (Macintosh; Intel Mac OS X 10_8_0 ...</td>\n",
              "      <td>Williams, Marshall and Buchanan</td>\n",
              "      <td>6011578504430710</td>\n",
              "      <td>02/24</td>\n",
              "      <td>384</td>\n",
              "      <td>Discover</td>\n",
              "      <td>brent16@olson-robinson.info</td>\n",
              "      <td>Drilling engineer</td>\n",
              "      <td>30.250.74.19</td>\n",
              "      <td>es</td>\n",
              "      <td>78.04</td>\n",
              "    </tr>\n",
              "    <tr>\n",
              "      <th>4</th>\n",
              "      <td>23012 Munoz Drive Suite 337\\nNew Cynthia, TX 5...</td>\n",
              "      <td>20 IE</td>\n",
              "      <td>AM</td>\n",
              "      <td>Opera/9.58.(X11; Linux x86_64; it-IT) Presto/2...</td>\n",
              "      <td>Brown, Watson and Andrews</td>\n",
              "      <td>6011456623207998</td>\n",
              "      <td>10/25</td>\n",
              "      <td>678</td>\n",
              "      <td>Diners Club / Carte Blanche</td>\n",
              "      <td>christopherwright@gmail.com</td>\n",
              "      <td>Fine artist</td>\n",
              "      <td>24.140.33.94</td>\n",
              "      <td>es</td>\n",
              "      <td>77.82</td>\n",
              "    </tr>\n",
              "  </tbody>\n",
              "</table>\n",
              "</div>\n",
              "      <button class=\"colab-df-convert\" onclick=\"convertToInteractive('df-a8cf1110-7243-4d58-b304-443c1390bd39')\"\n",
              "              title=\"Convert this dataframe to an interactive table.\"\n",
              "              style=\"display:none;\">\n",
              "        \n",
              "  <svg xmlns=\"http://www.w3.org/2000/svg\" height=\"24px\"viewBox=\"0 0 24 24\"\n",
              "       width=\"24px\">\n",
              "    <path d=\"M0 0h24v24H0V0z\" fill=\"none\"/>\n",
              "    <path d=\"M18.56 5.44l.94 2.06.94-2.06 2.06-.94-2.06-.94-.94-2.06-.94 2.06-2.06.94zm-11 1L8.5 8.5l.94-2.06 2.06-.94-2.06-.94L8.5 2.5l-.94 2.06-2.06.94zm10 10l.94 2.06.94-2.06 2.06-.94-2.06-.94-.94-2.06-.94 2.06-2.06.94z\"/><path d=\"M17.41 7.96l-1.37-1.37c-.4-.4-.92-.59-1.43-.59-.52 0-1.04.2-1.43.59L10.3 9.45l-7.72 7.72c-.78.78-.78 2.05 0 2.83L4 21.41c.39.39.9.59 1.41.59.51 0 1.02-.2 1.41-.59l7.78-7.78 2.81-2.81c.8-.78.8-2.07 0-2.86zM5.41 20L4 18.59l7.72-7.72 1.47 1.35L5.41 20z\"/>\n",
              "  </svg>\n",
              "      </button>\n",
              "      \n",
              "  <style>\n",
              "    .colab-df-container {\n",
              "      display:flex;\n",
              "      flex-wrap:wrap;\n",
              "      gap: 12px;\n",
              "    }\n",
              "\n",
              "    .colab-df-convert {\n",
              "      background-color: #E8F0FE;\n",
              "      border: none;\n",
              "      border-radius: 50%;\n",
              "      cursor: pointer;\n",
              "      display: none;\n",
              "      fill: #1967D2;\n",
              "      height: 32px;\n",
              "      padding: 0 0 0 0;\n",
              "      width: 32px;\n",
              "    }\n",
              "\n",
              "    .colab-df-convert:hover {\n",
              "      background-color: #E2EBFA;\n",
              "      box-shadow: 0px 1px 2px rgba(60, 64, 67, 0.3), 0px 1px 3px 1px rgba(60, 64, 67, 0.15);\n",
              "      fill: #174EA6;\n",
              "    }\n",
              "\n",
              "    [theme=dark] .colab-df-convert {\n",
              "      background-color: #3B4455;\n",
              "      fill: #D2E3FC;\n",
              "    }\n",
              "\n",
              "    [theme=dark] .colab-df-convert:hover {\n",
              "      background-color: #434B5C;\n",
              "      box-shadow: 0px 1px 3px 1px rgba(0, 0, 0, 0.15);\n",
              "      filter: drop-shadow(0px 1px 2px rgba(0, 0, 0, 0.3));\n",
              "      fill: #FFFFFF;\n",
              "    }\n",
              "  </style>\n",
              "\n",
              "      <script>\n",
              "        const buttonEl =\n",
              "          document.querySelector('#df-a8cf1110-7243-4d58-b304-443c1390bd39 button.colab-df-convert');\n",
              "        buttonEl.style.display =\n",
              "          google.colab.kernel.accessAllowed ? 'block' : 'none';\n",
              "\n",
              "        async function convertToInteractive(key) {\n",
              "          const element = document.querySelector('#df-a8cf1110-7243-4d58-b304-443c1390bd39');\n",
              "          const dataTable =\n",
              "            await google.colab.kernel.invokeFunction('convertToInteractive',\n",
              "                                                     [key], {});\n",
              "          if (!dataTable) return;\n",
              "\n",
              "          const docLinkHtml = 'Like what you see? Visit the ' +\n",
              "            '<a target=\"_blank\" href=https://colab.research.google.com/notebooks/data_table.ipynb>data table notebook</a>'\n",
              "            + ' to learn more about interactive tables.';\n",
              "          element.innerHTML = '';\n",
              "          dataTable['output_type'] = 'display_data';\n",
              "          await google.colab.output.renderOutput(dataTable, element);\n",
              "          const docLink = document.createElement('div');\n",
              "          docLink.innerHTML = docLinkHtml;\n",
              "          element.appendChild(docLink);\n",
              "        }\n",
              "      </script>\n",
              "    </div>\n",
              "  </div>\n",
              "  "
            ],
            "text/plain": [
              "                                             Address    Lot AM or PM  \\\n",
              "0  16629 Pace Camp Apt. 448\\nAlexisborough, NE 77...  46 in       PM   \n",
              "1  9374 Jasmine Spurs Suite 508\\nSouth John, TN 8...  28 rn       PM   \n",
              "2                   Unit 0065 Box 5052\\nDPO AP 27450  94 vE       PM   \n",
              "3              7780 Julia Fords\\nNew Stacy, WA 45798  36 vm       PM   \n",
              "4  23012 Munoz Drive Suite 337\\nNew Cynthia, TX 5...  20 IE       AM   \n",
              "\n",
              "                                        Browser Info  \\\n",
              "0  Opera/9.56.(X11; Linux x86_64; sl-SI) Presto/2...   \n",
              "1  Opera/8.93.(Windows 98; Win 9x 4.90; en-US) Pr...   \n",
              "2  Mozilla/5.0 (compatible; MSIE 9.0; Windows NT ...   \n",
              "3  Mozilla/5.0 (Macintosh; Intel Mac OS X 10_8_0 ...   \n",
              "4  Opera/9.58.(X11; Linux x86_64; it-IT) Presto/2...   \n",
              "\n",
              "                           Company       Credit Card CC Exp Date  \\\n",
              "0                  Martinez-Herman  6011929061123406       02/20   \n",
              "1  Fletcher, Richards and Whitaker  3337758169645356       11/18   \n",
              "2       Simpson, Williams and Pham      675957666125       08/19   \n",
              "3  Williams, Marshall and Buchanan  6011578504430710       02/24   \n",
              "4        Brown, Watson and Andrews  6011456623207998       10/25   \n",
              "\n",
              "   CC Security Code                  CC Provider  \\\n",
              "0               900                 JCB 16 digit   \n",
              "1               561                   Mastercard   \n",
              "2               699                 JCB 16 digit   \n",
              "3               384                     Discover   \n",
              "4               678  Diners Club / Carte Blanche   \n",
              "\n",
              "                            Email                                     Job  \\\n",
              "0               pdunlap@yahoo.com  Scientist, product/process development   \n",
              "1              anthony41@reed.com                       Drilling engineer   \n",
              "2  amymiller@morales-harrison.com                Customer service manager   \n",
              "3     brent16@olson-robinson.info                       Drilling engineer   \n",
              "4     christopherwright@gmail.com                             Fine artist   \n",
              "\n",
              "        IP Address Language  Purchase Price  \n",
              "0  149.146.147.205       el           98.14  \n",
              "1     15.160.41.51       fr           70.73  \n",
              "2   132.207.160.22       de            0.95  \n",
              "3     30.250.74.19       es           78.04  \n",
              "4     24.140.33.94       es           77.82  "
            ]
          },
          "execution_count": 4,
          "metadata": {},
          "output_type": "execute_result"
        }
      ],
      "source": [
        "ecom = pd.read_csv('/content/Ecommerce Purchases.csv')\n",
        "ecom.head()"
      ]
    },
    {
      "cell_type": "markdown",
      "metadata": {
        "id": "n6F5TwzOrThM"
      },
      "source": [
        "** How many rows and columns are there? **"
      ]
    },
    {
      "cell_type": "code",
      "execution_count": null,
      "metadata": {
        "colab": {
          "base_uri": "https://localhost:8080/"
        },
        "id": "yWOdz-WtuJjl",
        "outputId": "b34959a7-2c84-4991-eba5-c0e9296d1823"
      },
      "outputs": [
        {
          "name": "stdout",
          "output_type": "stream",
          "text": [
            "<class 'pandas.core.frame.DataFrame'>\n",
            "RangeIndex: 10000 entries, 0 to 9999\n",
            "Data columns (total 14 columns):\n",
            " #   Column            Non-Null Count  Dtype  \n",
            "---  ------            --------------  -----  \n",
            " 0   Address           10000 non-null  object \n",
            " 1   Lot               10000 non-null  object \n",
            " 2   AM or PM          10000 non-null  object \n",
            " 3   Browser Info      10000 non-null  object \n",
            " 4   Company           10000 non-null  object \n",
            " 5   Credit Card       10000 non-null  int64  \n",
            " 6   CC Exp Date       10000 non-null  object \n",
            " 7   CC Security Code  10000 non-null  int64  \n",
            " 8   CC Provider       10000 non-null  object \n",
            " 9   Email             10000 non-null  object \n",
            " 10  Job               10000 non-null  object \n",
            " 11  IP Address        10000 non-null  object \n",
            " 12  Language          10000 non-null  object \n",
            " 13  Purchase Price    10000 non-null  float64\n",
            "dtypes: float64(1), int64(2), object(11)\n",
            "memory usage: 1.1+ MB\n"
          ]
        }
      ],
      "source": [
        "ecom.info()"
      ]
    },
    {
      "cell_type": "markdown",
      "metadata": {
        "id": "5ndNMpnirThN"
      },
      "source": [
        "** What is the average Purchase Price? **"
      ]
    },
    {
      "cell_type": "code",
      "execution_count": null,
      "metadata": {
        "colab": {
          "base_uri": "https://localhost:8080/"
        },
        "id": "wB7S6R6avH19",
        "outputId": "5d50cda1-612e-4c3f-90a9-17cd936a801c"
      },
      "outputs": [
        {
          "data": {
            "text/plain": [
              "50.35"
            ]
          },
          "execution_count": 8,
          "metadata": {},
          "output_type": "execute_result"
        }
      ],
      "source": [
        "x = ecom['Purchase Price'].mean()\n",
        "round(x,2)"
      ]
    },
    {
      "cell_type": "markdown",
      "metadata": {
        "id": "x4VGWOfArThN"
      },
      "source": [
        "** What were the highest and lowest purchase prices? **"
      ]
    },
    {
      "cell_type": "code",
      "execution_count": null,
      "metadata": {
        "colab": {
          "base_uri": "https://localhost:8080/"
        },
        "id": "yFNjzI3VvcoV",
        "outputId": "0d51132c-b346-45cf-e977-8ec34aa97ad3"
      },
      "outputs": [
        {
          "name": "stdout",
          "output_type": "stream",
          "text": [
            "the highest purchase price is $99.99\n"
          ]
        }
      ],
      "source": [
        "highest_Pur_price = ecom['Purchase Price'].max()\n",
        "print(f\"The highest purchase price is ${highest_Pur_price}\")"
      ]
    },
    {
      "cell_type": "code",
      "execution_count": null,
      "metadata": {
        "colab": {
          "base_uri": "https://localhost:8080/"
        },
        "id": "gl-S-0qEv76s",
        "outputId": "ee9beb6a-ad11-4be2-e9c5-9db7685d58a1"
      },
      "outputs": [
        {
          "name": "stdout",
          "output_type": "stream",
          "text": [
            "The lowest purchase price is $0.0\n"
          ]
        }
      ],
      "source": [
        "lowest_Pur_price = ecom['Purchase Price'].min()\n",
        "print(f\"The lowest purchase price is ${lowest_Pur_price}\")"
      ]
    },
    {
      "cell_type": "markdown",
      "metadata": {
        "id": "9WJDAjeIrThO"
      },
      "source": [
        "** How many people have English 'en' as their Language of choice on the website? **"
      ]
    },
    {
      "cell_type": "code",
      "execution_count": null,
      "metadata": {
        "colab": {
          "base_uri": "https://localhost:8080/"
        },
        "id": "0fxENFejwYpR",
        "outputId": "b46d8353-bad9-42e8-a98a-c5b91e61fb4b"
      },
      "outputs": [
        {
          "name": "stdout",
          "output_type": "stream",
          "text": [
            "1098 have English as their language of choice on the website\n"
          ]
        }
      ],
      "source": [
        "lang = ecom[ecom['Language'] == 'en']\n",
        "#print(lang.count())\n",
        "print(f\"{len(lang)} have English as their language of choice on the website\")"
      ]
    },
    {
      "cell_type": "markdown",
      "metadata": {
        "id": "Q6sTbC0srThP"
      },
      "source": [
        "** How many people have the job title of \"Lawyer\" ? **\n"
      ]
    },
    {
      "cell_type": "code",
      "execution_count": null,
      "metadata": {
        "colab": {
          "base_uri": "https://localhost:8080/"
        },
        "id": "MuJDnmxXxM90",
        "outputId": "0ad09613-724f-4317-8a01-21e814aa725b"
      },
      "outputs": [
        {
          "name": "stdout",
          "output_type": "stream",
          "text": [
            "30 has Lawyer as their Job Title\n"
          ]
        }
      ],
      "source": [
        "job_title = ecom[ecom['Job'] == 'Lawyer']\n",
        "#print(job_title.count())\n",
        "print(f\"{len(job_title)} has Lawyer as their Job Title\")"
      ]
    },
    {
      "cell_type": "markdown",
      "metadata": {
        "id": "rJr_lCHurThP"
      },
      "source": [
        "** How many people made the purchase during the AM and how many people made the purchase during PM ? **\n",
        "\n",
        "**(Hint: Check out [value_counts()](http://pandas.pydata.org/pandas-docs/stable/generated/pandas.Series.value_counts.html) ) **"
      ]
    },
    {
      "cell_type": "code",
      "execution_count": null,
      "metadata": {
        "colab": {
          "base_uri": "https://localhost:8080/"
        },
        "id": "lCjFJAoDx5km",
        "outputId": "ab36b1e2-c514-46a8-d9cb-af2e5835dc87"
      },
      "outputs": [
        {
          "name": "stdout",
          "output_type": "stream",
          "text": [
            "\n",
            "5068 people made purchase during AM\n",
            "\n",
            "4932 people made purchase during PM\n"
          ]
        }
      ],
      "source": [
        "# Finding the top 5 most common job titles\n",
        "b = ecom['AM or PM'].value_counts()\n",
        "AM = b.loc['PM']\n",
        "PM = b.loc['AM']\n",
        "#print(b)\n",
        "print(f\"\\n{AM} people made purchase during AM\")\n",
        "print(f\"\\n{PM} people made purchase during PM\")"
      ]
    },
    {
      "cell_type": "markdown",
      "metadata": {
        "id": "3ke6bmKUrThQ"
      },
      "source": [
        "** What are the 5 most common Job Titles? **"
      ]
    },
    {
      "cell_type": "code",
      "execution_count": null,
      "metadata": {
        "colab": {
          "base_uri": "https://localhost:8080/"
        },
        "id": "IUdthCTDy_Wj",
        "outputId": "3fd89e54-758f-4804-91c3-9caad698ab2d"
      },
      "outputs": [
        {
          "name": "stdout",
          "output_type": "stream",
          "text": [
            "\n",
            "Interior and spatial designer is 1 in the top 5 common jobs\n",
            "\n",
            "Lawyer is 2 in the top 5 common jobs\n",
            "\n",
            "Social researcher is 3 in the top 5 common jobs\n",
            "\n",
            "Purchasing manager is 4 in the top 5 common jobs\n",
            "\n",
            "Designer, jewellery is 5 in the top 5 common jobs\n"
          ]
        }
      ],
      "source": [
        "# Finding the top 5 most common job titles\n",
        "\n",
        "top_5_job = ecom['Job'].value_counts()\n",
        "t = top_5_job.head()\n",
        "#converting the index's of the DataFrame to a list\n",
        "index_list = t.index.tolist()\n",
        "count = 1\n",
        "#print(t)\n",
        "#loop through the created list(index_list) to get the print out of the top 5 common job\n",
        "for i in index_list:\n",
        "  print(f\"\\n{i} is {count} in the top 5 common jobs\")\n",
        "  count += 1"
      ]
    },
    {
      "cell_type": "markdown",
      "metadata": {
        "id": "7RxPOFMkrThR"
      },
      "source": [
        "** Someone made a purchase that came from Lot: \"90 WT\" , what was the Purchase Price for this transaction? **"
      ]
    },
    {
      "cell_type": "code",
      "execution_count": null,
      "metadata": {
        "colab": {
          "base_uri": "https://localhost:8080/"
        },
        "id": "soHBewkM1P1n",
        "outputId": "9c967973-28f2-4008-e5d0-cc1dae46cdfb"
      },
      "outputs": [
        {
          "name": "stdout",
          "output_type": "stream",
          "text": [
            "\n",
            "The Purchase price for the purchase that was made at Longtitude 90 WT is $75.1\n"
          ]
        }
      ],
      "source": [
        "#the purchase price ot the purchase made at \"90 WT\"\n",
        "\n",
        "pp = ecom[ecom['Lot'] == '90 WT']['Purchase Price']\n",
        "#print(pp)\n",
        "print(f\"\\nThe Purchase price for the purchase that was made at Longtitude 90 WT is ${pp[513]}\")"
      ]
    },
    {
      "cell_type": "markdown",
      "metadata": {
        "id": "IqT3ixLNrThR"
      },
      "source": [
        "** What is the email of the person with the following Credit Card Number: 4926535242672853 **"
      ]
    },
    {
      "cell_type": "code",
      "execution_count": null,
      "metadata": {
        "colab": {
          "base_uri": "https://localhost:8080/"
        },
        "id": "-e2mMia-2hud",
        "outputId": "e22b7dc0-2438-4d21-d4c5-1c693c44ee18"
      },
      "outputs": [
        {
          "name": "stdout",
          "output_type": "stream",
          "text": [
            "1234    bondellen@williams-garza.com\n",
            "Name: Email, dtype: object\n",
            "\n",
            "The Purchase made with Credit Card Number(4926535242672853) had this e-mail: bondellen@williams-garza.com\n"
          ]
        }
      ],
      "source": [
        "# Finding the email of the person with the following Credit Card Number: 4926535242672853\n",
        "\n",
        "mail = ecom[ecom['Credit Card'] == 4926535242672853]\n",
        "m = mail['Email']\n",
        "print(m)\n",
        "print(f\"\\nThe Purchase made with Credit Card Number(4926535242672853) had this e-mail: {m[1234]}\")"
      ]
    },
    {
      "cell_type": "markdown",
      "metadata": {
        "id": "EtFJt7_GrThS"
      },
      "source": [
        "** How many people have American Express as their Credit Card Provider *and* made a purchase above $95 ?**"
      ]
    },
    {
      "cell_type": "code",
      "execution_count": null,
      "metadata": {
        "colab": {
          "base_uri": "https://localhost:8080/"
        },
        "id": "sugdBe7x4GZf",
        "outputId": "c46dbe1d-51d7-4966-ac39-f76796dbf435"
      },
      "outputs": [
        {
          "name": "stdout",
          "output_type": "stream",
          "text": [
            "Address             39\n",
            "Lot                 39\n",
            "AM or PM            39\n",
            "Browser Info        39\n",
            "Company             39\n",
            "Credit Card         39\n",
            "CC Exp Date         39\n",
            "CC Security Code    39\n",
            "CC Provider         39\n",
            "Email               39\n",
            "Job                 39\n",
            "IP Address          39\n",
            "Language            39\n",
            "Purchase Price      39\n",
            "CC exp_year         39\n",
            "dtype: int64\n",
            "\n",
            "39 people have American Express as their CC Provider and made a purchase of over $95.\n"
          ]
        }
      ],
      "source": [
        "# Finding the total number of people who have \"American Express\" as their CC provider and who made a purchase above $95\n",
        "\n",
        "chaebol = ecom[(ecom['CC Provider'] == 'American Express') & (ecom['Purchase Price'] > 95)]\n",
        "c = chaebol.count()\n",
        "print(c)\n",
        "print(f\"\\n{len(chaebol)} people have American Express as their CC Provider and made a purchase of over $95.\")"
      ]
    },
    {
      "cell_type": "markdown",
      "metadata": {
        "id": "lvaOezaxrThS"
      },
      "source": [
        "** Hard: How many people have a credit card that expires in 2025? **"
      ]
    },
    {
      "cell_type": "code",
      "execution_count": null,
      "metadata": {
        "colab": {
          "base_uri": "https://localhost:8080/"
        },
        "id": "Qsb0557E7YB-",
        "outputId": "7ab1f124-a8c8-4215-f99b-d5cd329e5e4e"
      },
      "outputs": [
        {
          "name": "stdout",
          "output_type": "stream",
          "text": [
            "1033\n",
            "\n",
            "1033 people have a Credit Card expiring in 2025\n"
          ]
        }
      ],
      "source": [
        "#number of people whose credit card expires in the year 2025\n",
        "\n",
        "def year(ecom):\n",
        "  if '25' in ecom['CC Exp Date']:\n",
        "    return '2025' \n",
        "  else:\n",
        "    return 'not in 2025'\n",
        "ecom[\"CC exp_year\"] = ecom.apply(year,axis=\"columns\")\n",
        "l = len(ecom[ecom['CC exp_year'] == '2025'])\n",
        "print(l)\n",
        "print(f\"\\n{l} people have a Credit Card expiring in 2025\")"
      ]
    },
    {
      "cell_type": "markdown",
      "metadata": {
        "id": "hnXvstz8rThS"
      },
      "source": [
        "** Hard: What are the top 5 most popular email providers/hosts (e.g. gmail.com, yahoo.com, etc...) **"
      ]
    },
    {
      "cell_type": "code",
      "execution_count": null,
      "metadata": {
        "colab": {
          "base_uri": "https://localhost:8080/"
        },
        "id": "lluKAyBJ9Z4w",
        "outputId": "959c3b24-16ae-4d7e-bc4a-6000c5e6dc18"
      },
      "outputs": [
        {
          "name": "stdout",
          "output_type": "stream",
          "text": [
            "hotmail.com     1638\n",
            "yahoo.com       1616\n",
            "gmail.com       1605\n",
            "smith.com         42\n",
            "williams.com      37\n",
            "Name: Email, dtype: int64\n",
            "\n",
            "hotmail.com is 1 in the top 5 most popular email providers\n",
            "\n",
            "yahoo.com is 2 in the top 5 most popular email providers\n",
            "\n",
            "gmail.com is 3 in the top 5 most popular email providers\n",
            "\n",
            "smith.com is 4 in the top 5 most popular email providers\n",
            "\n",
            "williams.com is 5 in the top 5 most popular email providers\n"
          ]
        }
      ],
      "source": [
        "# Finding the top 5 most popular email providers\n",
        "\n",
        "e = ecom['Email'].apply(lambda x: x.split('@')[-1])\n",
        "sorted_mail_domain = e.value_counts()#.sort_values(ascending=False)\n",
        "s = sorted_mail_domain.head()\n",
        "s_list = s.index.tolist()\n",
        "count = 1\n",
        "print(s)\n",
        "for i in s_list:\n",
        "  print(f\"\\n{i} is {count} in the top 5 most popular email providers\")\n",
        "  count += 1"
      ]
    },
    {
      "cell_type": "markdown",
      "metadata": {
        "id": "fRQHQYIArThT"
      },
      "source": [
        "# Great Job!"
      ]
    }
  ],
  "metadata": {
    "colab": {
      "provenance": []
    },
    "kernelspec": {
      "display_name": "Python 3",
      "language": "python",
      "name": "python3"
    },
    "language_info": {
      "codemirror_mode": {
        "name": "ipython",
        "version": 3
      },
      "file_extension": ".py",
      "mimetype": "text/x-python",
      "name": "python",
      "nbconvert_exporter": "python",
      "pygments_lexer": "ipython3",
      "version": "3.8.8"
    }
  },
  "nbformat": 4,
  "nbformat_minor": 0
}
